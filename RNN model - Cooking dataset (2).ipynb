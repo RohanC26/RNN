{
 "cells": [
  {
   "cell_type": "code",
   "execution_count": 1,
   "id": "7e685dca",
   "metadata": {},
   "outputs": [
    {
     "name": "stdout",
     "output_type": "stream",
     "text": [
      "WARNING:tensorflow:From D:\\Anaconda\\lib\\site-packages\\keras\\src\\losses.py:2976: The name tf.losses.sparse_softmax_cross_entropy is deprecated. Please use tf.compat.v1.losses.sparse_softmax_cross_entropy instead.\n",
      "\n"
     ]
    }
   ],
   "source": [
    "import re # regular expression\n",
    "import numpy as np\n",
    "import pandas as pd\n",
    "\n",
    "from sklearn.feature_extraction.text import CountVectorizer\n",
    "#converting a collection of text documents into a numerical representation\n",
    "from sklearn.model_selection import train_test_split\n",
    "\n",
    "from keras.preprocessing import sequence\n",
    "from keras.preprocessing.text import Tokenizer\n",
    "#Tokenization is the process of dividing a text into smaller units\n",
    "from keras.preprocessing.sequence import pad_sequences\n",
    "from keras.models import Sequential\n",
    "from keras.layers import Dense, Embedding, LSTM\n",
    "#A layer which learns a position embedding for inputs sequences.\n",
    "\n",
    "from tensorflow.keras.utils import to_categorical\n",
    "\n",
    "import warnings\n",
    "warnings.filterwarnings('ignore')\n",
    "import ssl\n",
    "ssl._create_default_https_context = ssl._create_unverified_context\n",
    "# A common solution for SSL certificate_verify_failed errors."
   ]
  },
  {
   "cell_type": "code",
   "execution_count": 2,
   "id": "04b3d351",
   "metadata": {},
   "outputs": [],
   "source": [
    "data = pd.read_csv(\"C:/Users/Rohan C/Dropbox/PC/Downloads/RNN.csv\")\n",
    "\n",
    "#data = pd.read_csv('RNN.csv')\n",
    "# Keeping only the neccessary columns\n",
    "data = data[['Text','Sentiment']]"
   ]
  },
  {
   "cell_type": "code",
   "execution_count": 3,
   "id": "c480c0bf",
   "metadata": {},
   "outputs": [
    {
     "data": {
      "text/html": [
       "<div>\n",
       "<style scoped>\n",
       "    .dataframe tbody tr th:only-of-type {\n",
       "        vertical-align: middle;\n",
       "    }\n",
       "\n",
       "    .dataframe tbody tr th {\n",
       "        vertical-align: top;\n",
       "    }\n",
       "\n",
       "    .dataframe thead th {\n",
       "        text-align: right;\n",
       "    }\n",
       "</style>\n",
       "<table border=\"1\" class=\"dataframe\">\n",
       "  <thead>\n",
       "    <tr style=\"text-align: right;\">\n",
       "      <th></th>\n",
       "      <th>Text</th>\n",
       "      <th>Sentiment</th>\n",
       "    </tr>\n",
       "  </thead>\n",
       "  <tbody>\n",
       "    <tr>\n",
       "      <th>0</th>\n",
       "      <td>The recipe was easy to follow and resulted in ...</td>\n",
       "      <td>Positive</td>\n",
       "    </tr>\n",
       "    <tr>\n",
       "      <th>1</th>\n",
       "      <td>The flavors in this meal are simply exquisite!</td>\n",
       "      <td>Positive</td>\n",
       "    </tr>\n",
       "    <tr>\n",
       "      <th>2</th>\n",
       "      <td>I absolutely loved how tender and juicy the me...</td>\n",
       "      <td>Positive</td>\n",
       "    </tr>\n",
       "    <tr>\n",
       "      <th>3</th>\n",
       "      <td>The presentation of the dish was so beautiful,...</td>\n",
       "      <td>Positive</td>\n",
       "    </tr>\n",
       "    <tr>\n",
       "      <th>4</th>\n",
       "      <td>The aroma of the spices filled the kitchen and...</td>\n",
       "      <td>Positive</td>\n",
       "    </tr>\n",
       "    <tr>\n",
       "      <th>5</th>\n",
       "      <td>This cookbook has become my go-to resource for...</td>\n",
       "      <td>Positive</td>\n",
       "    </tr>\n",
       "    <tr>\n",
       "      <th>6</th>\n",
       "      <td>The chef's attention to detail really shines t...</td>\n",
       "      <td>Positive</td>\n",
       "    </tr>\n",
       "    <tr>\n",
       "      <th>7</th>\n",
       "      <td>I never knew cooking could be this enjoyable u...</td>\n",
       "      <td>Positive</td>\n",
       "    </tr>\n",
       "    <tr>\n",
       "      <th>8</th>\n",
       "      <td>The ingredients used were fresh and of high qu...</td>\n",
       "      <td>Positive</td>\n",
       "    </tr>\n",
       "    <tr>\n",
       "      <th>9</th>\n",
       "      <td>The cooking technique used in this recipe elev...</td>\n",
       "      <td>Positive</td>\n",
       "    </tr>\n",
       "  </tbody>\n",
       "</table>\n",
       "</div>"
      ],
      "text/plain": [
       "                                                Text Sentiment\n",
       "0  The recipe was easy to follow and resulted in ...  Positive\n",
       "1     The flavors in this meal are simply exquisite!  Positive\n",
       "2  I absolutely loved how tender and juicy the me...  Positive\n",
       "3  The presentation of the dish was so beautiful,...  Positive\n",
       "4  The aroma of the spices filled the kitchen and...  Positive\n",
       "5  This cookbook has become my go-to resource for...  Positive\n",
       "6  The chef's attention to detail really shines t...  Positive\n",
       "7  I never knew cooking could be this enjoyable u...  Positive\n",
       "8  The ingredients used were fresh and of high qu...  Positive\n",
       "9  The cooking technique used in this recipe elev...  Positive"
      ]
     },
     "execution_count": 3,
     "metadata": {},
     "output_type": "execute_result"
    }
   ],
   "source": [
    "data.head(10)"
   ]
  },
  {
   "cell_type": "code",
   "execution_count": 4,
   "id": "0cfda3f2",
   "metadata": {},
   "outputs": [],
   "source": [
    "data = data[data.Sentiment != \"Neutral\"]\n",
    "data['Text'] = data['Text'].apply(lambda x: x.lower())\n",
    "data['Text'] = data['Text'].apply((lambda x: re.sub('[^a-zA-z0-9\\s]','',x)))\n",
    "\n",
    "for idx,row in data.iterrows():\n",
    "    row[0] = row[0].replace('rt',' ')\n",
    "\n",
    "max_fatures = 2000\n",
    "tokenizer = Tokenizer(nb_words=max_fatures, split=' ')\n",
    "tokenizer.fit_on_texts(data['Text'].values)\n",
    "X = tokenizer.texts_to_sequences(data['Text'].values)\n",
    "X = pad_sequences(X)"
   ]
  },
  {
   "cell_type": "code",
   "execution_count": 5,
   "id": "22ea9a67",
   "metadata": {},
   "outputs": [
    {
     "name": "stdout",
     "output_type": "stream",
     "text": [
      "Shape of training samples: (138, 36) (138, 2)\n",
      "Shape of testing samples: (69, 36) (69, 2)\n"
     ]
    }
   ],
   "source": [
    "Y = pd.get_dummies(data['Sentiment']).values\n",
    "X_train, X_test, Y_train, Y_test = train_test_split(X,Y, test_size = 0.33, random_state = 42)\n",
    "print('Shape of training samples:',X_train.shape,Y_train.shape)\n",
    "print('Shape of testing samples:',X_test.shape,Y_test.shape)"
   ]
  },
  {
   "cell_type": "code",
   "execution_count": 6,
   "id": "97dc9ba4",
   "metadata": {},
   "outputs": [
    {
     "name": "stdout",
     "output_type": "stream",
     "text": [
      "WARNING:tensorflow:From D:\\Anaconda\\lib\\site-packages\\keras\\src\\backend.py:873: The name tf.get_default_graph is deprecated. Please use tf.compat.v1.get_default_graph instead.\n",
      "\n",
      "WARNING:tensorflow:From D:\\Anaconda\\lib\\site-packages\\keras\\src\\optimizers\\__init__.py:309: The name tf.train.Optimizer is deprecated. Please use tf.compat.v1.train.Optimizer instead.\n",
      "\n",
      "Model: \"sequential\"\n",
      "_________________________________________________________________\n",
      " Layer (type)                Output Shape              Param #   \n",
      "=================================================================\n",
      " embedding (Embedding)       (None, 36, 128)           256000    \n",
      "                                                                 \n",
      " lstm (LSTM)                 (None, 128)               131584    \n",
      "                                                                 \n",
      " dense (Dense)               (None, 2)                 258       \n",
      "                                                                 \n",
      "=================================================================\n",
      "Total params: 387842 (1.48 MB)\n",
      "Trainable params: 387842 (1.48 MB)\n",
      "Non-trainable params: 0 (0.00 Byte)\n",
      "_________________________________________________________________\n",
      "None\n"
     ]
    }
   ],
   "source": [
    "model = Sequential()\n",
    "#model.add(Embedding(max_fatures, 128 ,input_length = X.shape[1], dropout=0.2))\n",
    "model.add(Embedding(max_fatures, 128 ,input_length = X.shape[1]))\n",
    "model.add(LSTM(128))\n",
    "model.add(Dense(2, activation='softmax'))\n",
    "model.compile(loss = 'categorical_crossentropy', optimizer='adam',metrics = ['accuracy'])\n",
    "print(model.summary())"
   ]
  },
  {
   "cell_type": "code",
   "execution_count": 30,
   "id": "0ab5fec1",
   "metadata": {},
   "outputs": [
    {
     "name": "stdout",
     "output_type": "stream",
     "text": [
      "Epoch 1/20\n",
      "9/9 - 0s - loss: 7.5622e-05 - accuracy: 1.0000 - 181ms/epoch - 20ms/step\n",
      "Epoch 2/20\n",
      "9/9 - 0s - loss: 5.4854e-05 - accuracy: 1.0000 - 164ms/epoch - 18ms/step\n",
      "Epoch 3/20\n",
      "9/9 - 0s - loss: 4.1960e-05 - accuracy: 1.0000 - 165ms/epoch - 18ms/step\n",
      "Epoch 4/20\n",
      "9/9 - 0s - loss: 9.3429e-05 - accuracy: 1.0000 - 169ms/epoch - 19ms/step\n",
      "Epoch 5/20\n",
      "9/9 - 0s - loss: 5.2517e-05 - accuracy: 1.0000 - 161ms/epoch - 18ms/step\n",
      "Epoch 6/20\n",
      "9/9 - 0s - loss: 4.4754e-05 - accuracy: 1.0000 - 154ms/epoch - 17ms/step\n",
      "Epoch 7/20\n",
      "9/9 - 0s - loss: 3.5363e-05 - accuracy: 1.0000 - 150ms/epoch - 17ms/step\n",
      "Epoch 8/20\n",
      "9/9 - 0s - loss: 3.1756e-05 - accuracy: 1.0000 - 152ms/epoch - 17ms/step\n",
      "Epoch 9/20\n",
      "9/9 - 0s - loss: 3.2284e-05 - accuracy: 1.0000 - 142ms/epoch - 16ms/step\n",
      "Epoch 10/20\n",
      "9/9 - 0s - loss: 3.0349e-05 - accuracy: 1.0000 - 147ms/epoch - 16ms/step\n",
      "Epoch 11/20\n",
      "9/9 - 0s - loss: 2.7669e-05 - accuracy: 1.0000 - 184ms/epoch - 20ms/step\n",
      "Epoch 12/20\n",
      "9/9 - 0s - loss: 2.7813e-05 - accuracy: 1.0000 - 153ms/epoch - 17ms/step\n",
      "Epoch 13/20\n",
      "9/9 - 0s - loss: 2.6593e-05 - accuracy: 1.0000 - 151ms/epoch - 17ms/step\n",
      "Epoch 14/20\n",
      "9/9 - 0s - loss: 2.7569e-05 - accuracy: 1.0000 - 347ms/epoch - 39ms/step\n",
      "Epoch 15/20\n",
      "9/9 - 0s - loss: 2.6435e-05 - accuracy: 1.0000 - 163ms/epoch - 18ms/step\n",
      "Epoch 16/20\n",
      "9/9 - 0s - loss: 2.4583e-05 - accuracy: 1.0000 - 180ms/epoch - 20ms/step\n",
      "Epoch 17/20\n",
      "9/9 - 0s - loss: 3.0688e-05 - accuracy: 1.0000 - 167ms/epoch - 19ms/step\n",
      "Epoch 18/20\n",
      "9/9 - 0s - loss: 2.4197e-05 - accuracy: 1.0000 - 167ms/epoch - 19ms/step\n",
      "Epoch 19/20\n",
      "9/9 - 0s - loss: 2.2260e-05 - accuracy: 1.0000 - 161ms/epoch - 18ms/step\n",
      "Epoch 20/20\n",
      "9/9 - 0s - loss: 2.4445e-05 - accuracy: 1.0000 - 185ms/epoch - 21ms/step\n"
     ]
    },
    {
     "data": {
      "text/plain": [
       "<keras.src.callbacks.History at 0x23b15fb6250>"
      ]
     },
     "execution_count": 30,
     "metadata": {},
     "output_type": "execute_result"
    }
   ],
   "source": [
    "batch_size = 16\n",
    "model.fit(X_train, Y_train, epochs = 20, batch_size=batch_size, verbose = 2)"
   ]
  },
  {
   "cell_type": "code",
   "execution_count": 31,
   "id": "afcdbc12",
   "metadata": {},
   "outputs": [
    {
     "name": "stdout",
     "output_type": "stream",
     "text": [
      "5/5 - 0s - loss: 1.9762 - accuracy: 0.7536 - 55ms/epoch - 11ms/step\n",
      "Score: 1.98\n",
      "Accuracy: 0.75\n"
     ]
    }
   ],
   "source": [
    "score,acc = model.evaluate(X_test, Y_test, verbose = 2, batch_size = batch_size)\n",
    "print(\"Score: %.2f\" % (score))\n",
    "print(\"Accuracy: %.2f\" % (acc))"
   ]
  },
  {
   "cell_type": "code",
   "execution_count": 32,
   "id": "48e34c61",
   "metadata": {},
   "outputs": [
    {
     "name": "stdout",
     "output_type": "stream",
     "text": [
      "1/1 [==============================] - 0s 21ms/step\n",
      "Prediction value: [0.46619546 0.5338046 ]\n",
      "Positive\n"
     ]
    }
   ],
   "source": [
    "text = 'Yummy'\n",
    "tester = np.array([text])\n",
    "tester = pd.DataFrame(tester)\n",
    "tester.columns = ['Text']\n",
    "\n",
    "tester['Text'] = tester['Text'].apply(lambda x: x.lower())\n",
    "tester['Text'] = tester['Text'].apply((lambda x: re.sub('[^a-zA-z0-9\\s]','',x)))\n",
    "\n",
    "max_fatures = 2000\n",
    "test = tokenizer.texts_to_sequences(tester['Text'].values)\n",
    "test = pad_sequences(test)\n",
    "\n",
    "if X.shape[1]>test.shape[1]:\n",
    "    test = np.pad(test[0], (X.shape[1]-test.shape[1],0), 'constant')\n",
    "\n",
    "test = np.array([test])\n",
    "\n",
    "prediction = model.predict(test)\n",
    "print('Prediction value:',prediction[0])\n",
    "threshold = 0.5  # You can adjust this threshold based on your model and requirements\n",
    "prediction_value = prediction[0][0]  # Accessing the first element of the prediction array\n",
    "if prediction_value <= threshold:\n",
    "    print(\"Positive\")\n",
    "else:\n",
    "    print(\"Negative\")"
   ]
  },
  {
   "cell_type": "code",
   "execution_count": 33,
   "id": "f605fc68",
   "metadata": {},
   "outputs": [
    {
     "name": "stdout",
     "output_type": "stream",
     "text": [
      "1/1 [==============================] - 0s 22ms/step\n",
      "Prediction value: [5.5755285e-04 9.9944240e-01]\n",
      "Positive\n"
     ]
    }
   ],
   "source": [
    "text = 'Mouthwatering flavours!'\n",
    "tester = np.array([text])\n",
    "tester = pd.DataFrame(tester)\n",
    "tester.columns = ['Text']\n",
    "\n",
    "tester['Text'] = tester['Text'].apply(lambda x: x.lower())\n",
    "tester['Text'] = tester['Text'].apply((lambda x: re.sub('[^a-zA-z0-9\\s]','',x)))\n",
    "\n",
    "max_fatures = 2000\n",
    "test = tokenizer.texts_to_sequences(tester['Text'].values)\n",
    "test = pad_sequences(test)\n",
    "\n",
    "if X.shape[1]>test.shape[1]:\n",
    "    test = np.pad(test[0], (X.shape[1]-test.shape[1],0), 'constant')\n",
    "\n",
    "test = np.array([test])\n",
    "\n",
    "prediction = model.predict(test)\n",
    "print('Prediction value:',prediction[0])\n",
    "threshold = 0.5  # You can adjust this threshold based on your model and requirements\n",
    "prediction_value = prediction[0][0]  # Accessing the first element of the prediction array\n",
    "if prediction_value <= threshold:\n",
    "    print(\"Positive\")\n",
    "else:\n",
    "    print(\"Negative\")"
   ]
  },
  {
   "cell_type": "code",
   "execution_count": 34,
   "id": "7055fbfd",
   "metadata": {},
   "outputs": [
    {
     "name": "stdout",
     "output_type": "stream",
     "text": [
      "1/1 [==============================] - 0s 21ms/step\n",
      "Prediction value: [9.9998713e-01 1.2932285e-05]\n",
      "Negative\n"
     ]
    }
   ],
   "source": [
    "text = 'Horrible taste'\n",
    "tester = np.array([text])\n",
    "tester = pd.DataFrame(tester)\n",
    "tester.columns = ['Text']\n",
    "\n",
    "tester['Text'] = tester['Text'].apply(lambda x: x.lower())\n",
    "tester['Text'] = tester['Text'].apply((lambda x: re.sub('[^a-zA-z0-9\\s]','',x)))\n",
    "\n",
    "max_fatures = 2000\n",
    "test = tokenizer.texts_to_sequences(tester['Text'].values)\n",
    "test = pad_sequences(test)\n",
    "\n",
    "if X.shape[1]>test.shape[1]:\n",
    "    test = np.pad(test[0], (X.shape[1]-test.shape[1],0), 'constant')\n",
    "\n",
    "test = np.array([test])\n",
    "\n",
    "prediction = model.predict(test)\n",
    "print('Prediction value:',prediction[0])\n",
    "threshold = 0.5  # You can adjust this threshold based on your model and requirements\n",
    "prediction_value = prediction[0][0]  # Accessing the first element of the prediction array\n",
    "if prediction_value <= threshold:\n",
    "    print(\"Positive\")\n",
    "else:\n",
    "    print(\"Negative\")"
   ]
  },
  {
   "cell_type": "code",
   "execution_count": 35,
   "id": "03db1f9b",
   "metadata": {},
   "outputs": [
    {
     "name": "stdout",
     "output_type": "stream",
     "text": [
      "1/1 [==============================] - 0s 24ms/step\n",
      "Prediction value: [9.9996161e-01 3.8436898e-05]\n",
      "Negative\n"
     ]
    }
   ],
   "source": [
    "text = 'Disappointing flavor.'\n",
    "tester = np.array([text])\n",
    "tester = pd.DataFrame(tester)\n",
    "tester.columns = ['Text']\n",
    "\n",
    "tester['Text'] = tester['Text'].apply(lambda x: x.lower())\n",
    "tester['Text'] = tester['Text'].apply((lambda x: re.sub('[^a-zA-z0-9\\s]','',x)))\n",
    "\n",
    "max_fatures = 2000\n",
    "test = tokenizer.texts_to_sequences(tester['Text'].values)\n",
    "test = pad_sequences(test)\n",
    "\n",
    "if X.shape[1]>test.shape[1]:\n",
    "    test = np.pad(test[0], (X.shape[1]-test.shape[1],0), 'constant')\n",
    "\n",
    "test = np.array([test])\n",
    "\n",
    "prediction = model.predict(test)\n",
    "print('Prediction value:',prediction[0])\n",
    "threshold = 0.5  # You can adjust this threshold based on your model and requirements\n",
    "prediction_value = prediction[0][0]  # Accessing the first element of the prediction array\n",
    "if prediction_value <= threshold:\n",
    "    print(\"Positive\")\n",
    "else:\n",
    "    print(\"Negative\")"
   ]
  },
  {
   "cell_type": "code",
   "execution_count": 36,
   "id": "8873f669",
   "metadata": {},
   "outputs": [
    {
     "name": "stdout",
     "output_type": "stream",
     "text": [
      "1/1 [==============================] - 0s 20ms/step\n",
      "Prediction value: [2.3204578e-07 9.9999976e-01]\n",
      "Positive\n"
     ]
    }
   ],
   "source": [
    "text = 'The recipe was easy to follow and resulted in a delicious dish.'\n",
    "tester = np.array([text])\n",
    "tester = pd.DataFrame(tester)\n",
    "tester.columns = ['Text']\n",
    "\n",
    "tester['Text'] = tester['Text'].apply(lambda x: x.lower())\n",
    "tester['Text'] = tester['Text'].apply((lambda x: re.sub('[^a-zA-z0-9\\s]','',x)))\n",
    "\n",
    "max_fatures = 2000\n",
    "test = tokenizer.texts_to_sequences(tester['Text'].values)\n",
    "test = pad_sequences(test)\n",
    "\n",
    "if X.shape[1]>test.shape[1]:\n",
    "    test = np.pad(test[0], (X.shape[1]-test.shape[1],0), 'constant')\n",
    "\n",
    "test = np.array([test])\n",
    "\n",
    "prediction = model.predict(test)\n",
    "print('Prediction value:',prediction[0])\n",
    "threshold = 0.5  # You can adjust this threshold based on your model and requirements\n",
    "prediction_value = prediction[0][0]  # Accessing the first element of the prediction array\n",
    "if prediction_value <= threshold:\n",
    "    print(\"Positive\")\n",
    "else:\n",
    "    print(\"Negative\")"
   ]
  },
  {
   "cell_type": "code",
   "execution_count": 37,
   "id": "58f66753",
   "metadata": {},
   "outputs": [
    {
     "name": "stdout",
     "output_type": "stream",
     "text": [
      "1/1 [==============================] - 0s 25ms/step\n",
      "Prediction value: [1.0000000e+00 4.9796967e-09]\n",
      "Negative\n"
     ]
    }
   ],
   "source": [
    "text = 'The dish lacked flavor and was quite bland, despite following the recipe closely.'\n",
    "tester = np.array([text])\n",
    "tester = pd.DataFrame(tester)\n",
    "tester.columns = ['Text']\n",
    "\n",
    "tester['Text'] = tester['Text'].apply(lambda x: x.lower())\n",
    "tester['Text'] = tester['Text'].apply((lambda x: re.sub('[^a-zA-z0-9\\s]','',x)))\n",
    "\n",
    "max_fatures = 2000\n",
    "test = tokenizer.texts_to_sequences(tester['Text'].values)\n",
    "test = pad_sequences(test)\n",
    "\n",
    "if X.shape[1]>test.shape[1]:\n",
    "    test = np.pad(test[0], (X.shape[1]-test.shape[1],0), 'constant')\n",
    "\n",
    "test = np.array([test])\n",
    "\n",
    "prediction = model.predict(test)\n",
    "print('Prediction value:',prediction[0])\n",
    "threshold = 0.5  # You can adjust this threshold based on your model and requirements\n",
    "prediction_value = prediction[0][0]  # Accessing the first element of the prediction array\n",
    "if prediction_value <= threshold:\n",
    "    print(\"Positive\")\n",
    "else:\n",
    "    print(\"Negative\")"
   ]
  },
  {
   "cell_type": "code",
   "execution_count": 38,
   "id": "43507f2e",
   "metadata": {},
   "outputs": [
    {
     "name": "stdout",
     "output_type": "stream",
     "text": [
      "1/1 [==============================] - 0s 27ms/step\n",
      "Prediction value: [9.999105e-01 8.950241e-05]\n",
      "Negative\n"
     ]
    }
   ],
   "source": [
    "text = 'Taste was awful'\n",
    "tester = np.array([text])\n",
    "tester = pd.DataFrame(tester)\n",
    "tester.columns = ['Text']\n",
    "\n",
    "tester['Text'] = tester['Text'].apply(lambda x: x.lower())\n",
    "tester['Text'] = tester['Text'].apply((lambda x: re.sub('[^a-zA-z0-9\\s]','',x)))\n",
    "\n",
    "max_fatures = 2000\n",
    "test = tokenizer.texts_to_sequences(tester['Text'].values)\n",
    "test = pad_sequences(test)\n",
    "\n",
    "if X.shape[1]>test.shape[1]:\n",
    "    test = np.pad(test[0], (X.shape[1]-test.shape[1],0), 'constant')\n",
    "\n",
    "test = np.array([test])\n",
    "\n",
    "prediction = model.predict(test)\n",
    "print('Prediction value:',prediction[0])\n",
    "threshold = 0.5  # You can adjust this threshold based on your model and requirements\n",
    "prediction_value = prediction[0][0]  # Accessing the first element of the prediction array\n",
    "if prediction_value <= threshold:\n",
    "    print(\"Positive\")\n",
    "else:\n",
    "    print(\"Negative\")"
   ]
  },
  {
   "cell_type": "code",
   "execution_count": 39,
   "id": "fdd9c20e",
   "metadata": {},
   "outputs": [
    {
     "name": "stdout",
     "output_type": "stream",
     "text": [
      "1/1 [==============================] - 0s 21ms/step\n",
      "Prediction value: [1.0000000e+00 1.3267138e-08]\n",
      "Negative\n"
     ]
    }
   ],
   "source": [
    "text = 'Food taste didnt meet the expectations'\n",
    "tester = np.array([text])\n",
    "tester = pd.DataFrame(tester)\n",
    "tester.columns = ['Text']\n",
    "\n",
    "tester['Text'] = tester['Text'].apply(lambda x: x.lower())\n",
    "tester['Text'] = tester['Text'].apply((lambda x: re.sub('[^a-zA-z0-9\\s]','',x)))\n",
    "\n",
    "max_fatures = 2000\n",
    "test = tokenizer.texts_to_sequences(tester['Text'].values)\n",
    "test = pad_sequences(test)\n",
    "\n",
    "if X.shape[1]>test.shape[1]:\n",
    "    test = np.pad(test[0], (X.shape[1]-test.shape[1],0), 'constant')\n",
    "\n",
    "test = np.array([test])\n",
    "\n",
    "prediction = model.predict(test)\n",
    "print('Prediction value:',prediction[0])\n",
    "threshold = 0.5  # You can adjust this threshold based on your model and requirements\n",
    "prediction_value = prediction[0][0]  # Accessing the first element of the prediction array\n",
    "if prediction_value <= threshold:\n",
    "    print(\"Positive\")\n",
    "else:\n",
    "    print(\"Negative\")"
   ]
  },
  {
   "cell_type": "code",
   "execution_count": 42,
   "id": "0b073735",
   "metadata": {},
   "outputs": [
    {
     "name": "stdout",
     "output_type": "stream",
     "text": [
      "1/1 [==============================] - 0s 23ms/step\n",
      "Prediction value: [3.377205e-04 9.996623e-01]\n",
      "Positive\n"
     ]
    }
   ],
   "source": [
    "text = 'I had a pretty day'\n",
    "tester = np.array([text])\n",
    "tester = pd.DataFrame(tester)\n",
    "tester.columns = ['Text']\n",
    "\n",
    "tester['Text'] = tester['Text'].apply(lambda x: x.lower())\n",
    "tester['Text'] = tester['Text'].apply((lambda x: re.sub('[^a-zA-z0-9\\s]','',x)))\n",
    "\n",
    "max_fatures = 2000\n",
    "test = tokenizer.texts_to_sequences(tester['Text'].values)\n",
    "test = pad_sequences(test)\n",
    "\n",
    "if X.shape[1]>test.shape[1]:\n",
    "    test = np.pad(test[0], (X.shape[1]-test.shape[1],0), 'constant')\n",
    "\n",
    "test = np.array([test])\n",
    "\n",
    "prediction = model.predict(test)\n",
    "print('Prediction value:',prediction[0])\n",
    "threshold = 0.5  # You can adjust this threshold based on your model and requirements\n",
    "prediction_value = prediction[0][0]  # Accessing the first element of the prediction array\n",
    "if prediction_value <= threshold:\n",
    "    print(\"Positive\")\n",
    "else:\n",
    "    print(\"Negative\")"
   ]
  },
  {
   "cell_type": "code",
   "execution_count": 43,
   "id": "4773717e",
   "metadata": {},
   "outputs": [
    {
     "name": "stdout",
     "output_type": "stream",
     "text": [
      "1/1 [==============================] - 0s 23ms/step\n",
      "Prediction value: [0.9989071 0.0010929]\n",
      "Negative\n"
     ]
    }
   ],
   "source": [
    "text = 'The taste was horrendous.'\n",
    "tester = np.array([text])\n",
    "tester = pd.DataFrame(tester)\n",
    "tester.columns = ['Text']\n",
    "\n",
    "tester['Text'] = tester['Text'].apply(lambda x: x.lower())\n",
    "tester['Text'] = tester['Text'].apply((lambda x: re.sub('[^a-zA-z0-9\\s]','',x)))\n",
    "\n",
    "max_fatures = 2000\n",
    "test = tokenizer.texts_to_sequences(tester['Text'].values)\n",
    "test = pad_sequences(test)\n",
    "\n",
    "if X.shape[1]>test.shape[1]:\n",
    "    test = np.pad(test[0], (X.shape[1]-test.shape[1],0), 'constant')\n",
    "\n",
    "test = np.array([test])\n",
    "\n",
    "prediction = model.predict(test)\n",
    "print('Prediction value:',prediction[0])\n",
    "threshold = 0.5  # You can adjust this threshold based on your model and requirements\n",
    "prediction_value = prediction[0][0]  # Accessing the first element of the prediction array\n",
    "if prediction_value <= threshold:\n",
    "    print(\"Positive\")\n",
    "else:\n",
    "    print(\"Negative\")"
   ]
  },
  {
   "cell_type": "code",
   "execution_count": null,
   "id": "da11a3c6",
   "metadata": {},
   "outputs": [],
   "source": []
  }
 ],
 "metadata": {
  "kernelspec": {
   "display_name": "Python 3 (ipykernel)",
   "language": "python",
   "name": "python3"
  },
  "language_info": {
   "codemirror_mode": {
    "name": "ipython",
    "version": 3
   },
   "file_extension": ".py",
   "mimetype": "text/x-python",
   "name": "python",
   "nbconvert_exporter": "python",
   "pygments_lexer": "ipython3",
   "version": "3.9.13"
  }
 },
 "nbformat": 4,
 "nbformat_minor": 5
}
